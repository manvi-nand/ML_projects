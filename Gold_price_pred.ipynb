{
 "cells": [
  {
   "cell_type": "code",
   "execution_count": 12,
   "id": "c21bd1b9",
   "metadata": {},
   "outputs": [],
   "source": [
    "import pandas as pd\n",
    "import numpy as np\n",
    "import matplotlib.pyplot as plt \n",
    "from sklearn.model_selection import train_test_split\n",
    "import seaborn as sns\n",
    "from sklearn.ensemble import RandomForestRegressor\n",
    "from sklearn import metrics\n",
    "from sklearn.preprocessing import StandardScaler"
   ]
  },
  {
   "cell_type": "code",
   "execution_count": 2,
   "id": "c68841c1",
   "metadata": {},
   "outputs": [],
   "source": [
    "df=pd.read_csv('gld_price_data.csv')"
   ]
  },
  {
   "cell_type": "code",
   "execution_count": 3,
   "id": "2725e7a5",
   "metadata": {},
   "outputs": [
    {
     "data": {
      "text/html": [
       "<div>\n",
       "<style scoped>\n",
       "    .dataframe tbody tr th:only-of-type {\n",
       "        vertical-align: middle;\n",
       "    }\n",
       "\n",
       "    .dataframe tbody tr th {\n",
       "        vertical-align: top;\n",
       "    }\n",
       "\n",
       "    .dataframe thead th {\n",
       "        text-align: right;\n",
       "    }\n",
       "</style>\n",
       "<table border=\"1\" class=\"dataframe\">\n",
       "  <thead>\n",
       "    <tr style=\"text-align: right;\">\n",
       "      <th></th>\n",
       "      <th>Date</th>\n",
       "      <th>SPX</th>\n",
       "      <th>GLD</th>\n",
       "      <th>USO</th>\n",
       "      <th>SLV</th>\n",
       "      <th>EUR/USD</th>\n",
       "    </tr>\n",
       "  </thead>\n",
       "  <tbody>\n",
       "    <tr>\n",
       "      <th>0</th>\n",
       "      <td>1/2/2008</td>\n",
       "      <td>1447.160034</td>\n",
       "      <td>84.860001</td>\n",
       "      <td>78.470001</td>\n",
       "      <td>15.180</td>\n",
       "      <td>1.471692</td>\n",
       "    </tr>\n",
       "    <tr>\n",
       "      <th>1</th>\n",
       "      <td>1/3/2008</td>\n",
       "      <td>1447.160034</td>\n",
       "      <td>85.570000</td>\n",
       "      <td>78.370003</td>\n",
       "      <td>15.285</td>\n",
       "      <td>1.474491</td>\n",
       "    </tr>\n",
       "    <tr>\n",
       "      <th>2</th>\n",
       "      <td>1/4/2008</td>\n",
       "      <td>1411.630005</td>\n",
       "      <td>85.129997</td>\n",
       "      <td>77.309998</td>\n",
       "      <td>15.167</td>\n",
       "      <td>1.475492</td>\n",
       "    </tr>\n",
       "    <tr>\n",
       "      <th>3</th>\n",
       "      <td>1/7/2008</td>\n",
       "      <td>1416.180054</td>\n",
       "      <td>84.769997</td>\n",
       "      <td>75.500000</td>\n",
       "      <td>15.053</td>\n",
       "      <td>1.468299</td>\n",
       "    </tr>\n",
       "    <tr>\n",
       "      <th>4</th>\n",
       "      <td>1/8/2008</td>\n",
       "      <td>1390.189941</td>\n",
       "      <td>86.779999</td>\n",
       "      <td>76.059998</td>\n",
       "      <td>15.590</td>\n",
       "      <td>1.557099</td>\n",
       "    </tr>\n",
       "  </tbody>\n",
       "</table>\n",
       "</div>"
      ],
      "text/plain": [
       "       Date          SPX        GLD        USO     SLV   EUR/USD\n",
       "0  1/2/2008  1447.160034  84.860001  78.470001  15.180  1.471692\n",
       "1  1/3/2008  1447.160034  85.570000  78.370003  15.285  1.474491\n",
       "2  1/4/2008  1411.630005  85.129997  77.309998  15.167  1.475492\n",
       "3  1/7/2008  1416.180054  84.769997  75.500000  15.053  1.468299\n",
       "4  1/8/2008  1390.189941  86.779999  76.059998  15.590  1.557099"
      ]
     },
     "execution_count": 3,
     "metadata": {},
     "output_type": "execute_result"
    }
   ],
   "source": [
    "df.head()"
   ]
  },
  {
   "cell_type": "code",
   "execution_count": 4,
   "id": "e33f0826",
   "metadata": {},
   "outputs": [
    {
     "data": {
      "text/html": [
       "<div>\n",
       "<style scoped>\n",
       "    .dataframe tbody tr th:only-of-type {\n",
       "        vertical-align: middle;\n",
       "    }\n",
       "\n",
       "    .dataframe tbody tr th {\n",
       "        vertical-align: top;\n",
       "    }\n",
       "\n",
       "    .dataframe thead th {\n",
       "        text-align: right;\n",
       "    }\n",
       "</style>\n",
       "<table border=\"1\" class=\"dataframe\">\n",
       "  <thead>\n",
       "    <tr style=\"text-align: right;\">\n",
       "      <th></th>\n",
       "      <th>SPX</th>\n",
       "      <th>GLD</th>\n",
       "      <th>USO</th>\n",
       "      <th>SLV</th>\n",
       "      <th>EUR/USD</th>\n",
       "    </tr>\n",
       "  </thead>\n",
       "  <tbody>\n",
       "    <tr>\n",
       "      <th>SPX</th>\n",
       "      <td>1.000000</td>\n",
       "      <td>0.049345</td>\n",
       "      <td>-0.591573</td>\n",
       "      <td>-0.274055</td>\n",
       "      <td>-0.672017</td>\n",
       "    </tr>\n",
       "    <tr>\n",
       "      <th>GLD</th>\n",
       "      <td>0.049345</td>\n",
       "      <td>1.000000</td>\n",
       "      <td>-0.186360</td>\n",
       "      <td>0.866632</td>\n",
       "      <td>-0.024375</td>\n",
       "    </tr>\n",
       "    <tr>\n",
       "      <th>USO</th>\n",
       "      <td>-0.591573</td>\n",
       "      <td>-0.186360</td>\n",
       "      <td>1.000000</td>\n",
       "      <td>0.167547</td>\n",
       "      <td>0.829317</td>\n",
       "    </tr>\n",
       "    <tr>\n",
       "      <th>SLV</th>\n",
       "      <td>-0.274055</td>\n",
       "      <td>0.866632</td>\n",
       "      <td>0.167547</td>\n",
       "      <td>1.000000</td>\n",
       "      <td>0.321631</td>\n",
       "    </tr>\n",
       "    <tr>\n",
       "      <th>EUR/USD</th>\n",
       "      <td>-0.672017</td>\n",
       "      <td>-0.024375</td>\n",
       "      <td>0.829317</td>\n",
       "      <td>0.321631</td>\n",
       "      <td>1.000000</td>\n",
       "    </tr>\n",
       "  </tbody>\n",
       "</table>\n",
       "</div>"
      ],
      "text/plain": [
       "              SPX       GLD       USO       SLV   EUR/USD\n",
       "SPX      1.000000  0.049345 -0.591573 -0.274055 -0.672017\n",
       "GLD      0.049345  1.000000 -0.186360  0.866632 -0.024375\n",
       "USO     -0.591573 -0.186360  1.000000  0.167547  0.829317\n",
       "SLV     -0.274055  0.866632  0.167547  1.000000  0.321631\n",
       "EUR/USD -0.672017 -0.024375  0.829317  0.321631  1.000000"
      ]
     },
     "execution_count": 4,
     "metadata": {},
     "output_type": "execute_result"
    }
   ],
   "source": [
    "df.corr()"
   ]
  },
  {
   "cell_type": "code",
   "execution_count": 5,
   "id": "a08d966d",
   "metadata": {},
   "outputs": [
    {
     "data": {
      "text/plain": [
       "Date       0\n",
       "SPX        0\n",
       "GLD        0\n",
       "USO        0\n",
       "SLV        0\n",
       "EUR/USD    0\n",
       "dtype: int64"
      ]
     },
     "execution_count": 5,
     "metadata": {},
     "output_type": "execute_result"
    }
   ],
   "source": [
    "df.isnull().sum()"
   ]
  },
  {
   "cell_type": "code",
   "execution_count": 6,
   "id": "f7b4439a",
   "metadata": {},
   "outputs": [
    {
     "data": {
      "text/plain": [
       "(2290, 6)"
      ]
     },
     "execution_count": 6,
     "metadata": {},
     "output_type": "execute_result"
    }
   ],
   "source": [
    "df.shape"
   ]
  },
  {
   "cell_type": "code",
   "execution_count": 7,
   "id": "ac175e67",
   "metadata": {},
   "outputs": [
    {
     "data": {
      "text/plain": [
       "Date        object\n",
       "SPX        float64\n",
       "GLD        float64\n",
       "USO        float64\n",
       "SLV        float64\n",
       "EUR/USD    float64\n",
       "dtype: object"
      ]
     },
     "execution_count": 7,
     "metadata": {},
     "output_type": "execute_result"
    }
   ],
   "source": [
    "df.dtypes"
   ]
  },
  {
   "cell_type": "code",
   "execution_count": 11,
   "id": "2768037e",
   "metadata": {},
   "outputs": [
    {
     "data": {
      "text/plain": [
       "<AxesSubplot:>"
      ]
     },
     "execution_count": 11,
     "metadata": {},
     "output_type": "execute_result"
    },
    {
     "data": {
      "image/png": "[encoded data removed]",
      "text/plain": [
       "<Figure size 1200x800 with 2 Axes>"
      ]
     },
     "metadata": {},
     "output_type": "display_data"
    }
   ],
   "source": [
    "plt.figure(figsize=(12,8))\n",
    "sns.heatmap(df.corr(),cmap='Blues')"
   ]
  },
  {
   "cell_type": "code",
   "execution_count": 13,
   "id": "2dd91fc5",
   "metadata": {},
   "outputs": [
    {
     "name": "stderr",
     "output_type": "stream",
     "text": [
      "/Library/Frameworks/Python.framework/Versions/3.7/lib/python3.7/site-packages/ipykernel_launcher.py:1: FutureWarning: Dropping of nuisance columns in DataFrame reductions (with 'numeric_only=None') is deprecated; in a future version this will raise TypeError.  Select only valid columns before calling the reduction.\n",
      "  \"\"\"Entry point for launching an IPython kernel.\n"
     ]
    },
    {
     "data": {
      "text/plain": [
       "SPX        519.111540\n",
       "GLD         23.283346\n",
       "USO         19.523517\n",
       "SLV          7.092566\n",
       "EUR/USD      0.131547\n",
       "dtype: float64"
      ]
     },
     "execution_count": 13,
     "metadata": {},
     "output_type": "execute_result"
    }
   ],
   "source": [
    "df.std()"
   ]
  },
  {
   "cell_type": "code",
   "execution_count": 14,
   "id": "44f0a2e8",
   "metadata": {},
   "outputs": [
    {
     "data": {
      "text/plain": [
       "(2290, 6)"
      ]
     },
     "execution_count": 14,
     "metadata": {},
     "output_type": "execute_result"
    }
   ],
   "source": [
    "df.shape"
   ]
  },
  {
   "cell_type": "code",
   "execution_count": 15,
   "id": "b32fd017",
   "metadata": {},
   "outputs": [
    {
     "name": "stdout",
     "output_type": "stream",
     "text": [
      "<class 'pandas.core.frame.DataFrame'>\n",
      "RangeIndex: 2290 entries, 0 to 2289\n",
      "Data columns (total 6 columns):\n",
      " #   Column   Non-Null Count  Dtype  \n",
      "---  ------   --------------  -----  \n",
      " 0   Date     2290 non-null   object \n",
      " 1   SPX      2290 non-null   float64\n",
      " 2   GLD      2290 non-null   float64\n",
      " 3   USO      2290 non-null   float64\n",
      " 4   SLV      2290 non-null   float64\n",
      " 5   EUR/USD  2290 non-null   float64\n",
      "dtypes: float64(5), object(1)\n",
      "memory usage: 107.5+ KB\n"
     ]
    }
   ],
   "source": [
    "df.info()"
   ]
  },
  {
   "cell_type": "code",
   "execution_count": 16,
   "id": "d17b5fb2",
   "metadata": {},
   "outputs": [
    {
     "data": {
      "text/html": [
       "<div>\n",
       "<style scoped>\n",
       "    .dataframe tbody tr th:only-of-type {\n",
       "        vertical-align: middle;\n",
       "    }\n",
       "\n",
       "    .dataframe tbody tr th {\n",
       "        vertical-align: top;\n",
       "    }\n",
       "\n",
       "    .dataframe thead th {\n",
       "        text-align: right;\n",
       "    }\n",
       "</style>\n",
       "<table border=\"1\" class=\"dataframe\">\n",
       "  <thead>\n",
       "    <tr style=\"text-align: right;\">\n",
       "      <th></th>\n",
       "      <th>SPX</th>\n",
       "      <th>GLD</th>\n",
       "      <th>USO</th>\n",
       "      <th>SLV</th>\n",
       "      <th>EUR/USD</th>\n",
       "    </tr>\n",
       "  </thead>\n",
       "  <tbody>\n",
       "    <tr>\n",
       "      <th>count</th>\n",
       "      <td>2290.000000</td>\n",
       "      <td>2290.000000</td>\n",
       "      <td>2290.000000</td>\n",
       "      <td>2290.000000</td>\n",
       "      <td>2290.000000</td>\n",
       "    </tr>\n",
       "    <tr>\n",
       "      <th>mean</th>\n",
       "      <td>1654.315776</td>\n",
       "      <td>122.732875</td>\n",
       "      <td>31.842221</td>\n",
       "      <td>20.084997</td>\n",
       "      <td>1.283653</td>\n",
       "    </tr>\n",
       "    <tr>\n",
       "      <th>std</th>\n",
       "      <td>519.111540</td>\n",
       "      <td>23.283346</td>\n",
       "      <td>19.523517</td>\n",
       "      <td>7.092566</td>\n",
       "      <td>0.131547</td>\n",
       "    </tr>\n",
       "    <tr>\n",
       "      <th>min</th>\n",
       "      <td>676.530029</td>\n",
       "      <td>70.000000</td>\n",
       "      <td>7.960000</td>\n",
       "      <td>8.850000</td>\n",
       "      <td>1.039047</td>\n",
       "    </tr>\n",
       "    <tr>\n",
       "      <th>25%</th>\n",
       "      <td>1239.874969</td>\n",
       "      <td>109.725000</td>\n",
       "      <td>14.380000</td>\n",
       "      <td>15.570000</td>\n",
       "      <td>1.171313</td>\n",
       "    </tr>\n",
       "    <tr>\n",
       "      <th>50%</th>\n",
       "      <td>1551.434998</td>\n",
       "      <td>120.580002</td>\n",
       "      <td>33.869999</td>\n",
       "      <td>17.268500</td>\n",
       "      <td>1.303297</td>\n",
       "    </tr>\n",
       "    <tr>\n",
       "      <th>75%</th>\n",
       "      <td>2073.010070</td>\n",
       "      <td>132.840004</td>\n",
       "      <td>37.827501</td>\n",
       "      <td>22.882500</td>\n",
       "      <td>1.369971</td>\n",
       "    </tr>\n",
       "    <tr>\n",
       "      <th>max</th>\n",
       "      <td>2872.870117</td>\n",
       "      <td>184.589996</td>\n",
       "      <td>117.480003</td>\n",
       "      <td>47.259998</td>\n",
       "      <td>1.598798</td>\n",
       "    </tr>\n",
       "  </tbody>\n",
       "</table>\n",
       "</div>"
      ],
      "text/plain": [
       "               SPX          GLD          USO          SLV      EUR/USD\n",
       "count  2290.000000  2290.000000  2290.000000  2290.000000  2290.000000\n",
       "mean   1654.315776   122.732875    31.842221    20.084997     1.283653\n",
       "std     519.111540    23.283346    19.523517     7.092566     0.131547\n",
       "min     676.530029    70.000000     7.960000     8.850000     1.039047\n",
       "25%    1239.874969   109.725000    14.380000    15.570000     1.171313\n",
       "50%    1551.434998   120.580002    33.869999    17.268500     1.303297\n",
       "75%    2073.010070   132.840004    37.827501    22.882500     1.369971\n",
       "max    2872.870117   184.589996   117.480003    47.259998     1.598798"
      ]
     },
     "execution_count": 16,
     "metadata": {},
     "output_type": "execute_result"
    }
   ],
   "source": [
    "df.describe()"
   ]
  },
  {
   "cell_type": "code",
   "execution_count": 17,
   "id": "bb02e24a",
   "metadata": {},
   "outputs": [],
   "source": [
    " corr=df.corr()"
   ]
  },
  {
   "cell_type": "code",
   "execution_count": 18,
   "id": "ac187227",
   "metadata": {},
   "outputs": [
    {
     "data": {
      "text/plain": [
       "<AxesSubplot:>"
      ]
     },
     "execution_count": 18,
     "metadata": {},
     "output_type": "execute_result"
    },
    {
     "data": {
      "image/png": "[encoded data removed]",
      "text/plain": [
       "<Figure size 1200x800 with 2 Axes>"
      ]
     },
     "metadata": {},
     "output_type": "display_data"
    }
   ],
   "source": [
    "plt.figure(figsize=(12,8))\n",
    "sns.heatmap(corr,cbar=True, square=True, fmt='.1f',\n",
    "            annot=True, cmap='Blues')"
   ]
  },
  {
   "cell_type": "code",
   "execution_count": 21,
   "id": "40e92039",
   "metadata": {},
   "outputs": [
    {
     "name": "stdout",
     "output_type": "stream",
     "text": [
      "SPX        0.049345\n",
      "GLD        1.000000\n",
      "USO       -0.186360\n",
      "SLV        0.866632\n",
      "EUR/USD   -0.024375\n",
      "Name: GLD, dtype: float64\n"
     ]
    }
   ],
   "source": [
    "#correlation values of gld\n",
    "print(corr['GLD'])"
   ]
  },
  {
   "cell_type": "code",
   "execution_count": 22,
   "id": "c58cd778",
   "metadata": {},
   "outputs": [
    {
     "name": "stderr",
     "output_type": "stream",
     "text": [
      "/Library/Frameworks/Python.framework/Versions/3.7/lib/python3.7/site-packages/ipykernel_launcher.py:2: UserWarning: \n",
      "\n",
      "`distplot` is a deprecated function and will be removed in seaborn v0.14.0.\n",
      "\n",
      "Please adapt your code to use either `displot` (a figure-level function with\n",
      "similar flexibility) or `histplot` (an axes-level function for histograms).\n",
      "\n",
      "For a guide to updating your code to use the new functions, please see\n",
      "https://gist.github.com/mwaskom/de44147ed2974457ad6372750bbe5751\n",
      "\n",
      "  \n"
     ]
    },
    {
     "data": {
      "text/plain": [
       "<AxesSubplot:xlabel='GLD', ylabel='Density'>"
      ]
     },
     "execution_count": 22,
     "metadata": {},
     "output_type": "execute_result"
    },
    {
     "data": {
      "image/png": "[encoded data removed]",
      "text/plain": [
       "<Figure size 640x480 with 1 Axes>"
      ]
     },
     "metadata": {},
     "output_type": "display_data"
    }
   ],
   "source": [
    "#checking the distribution of the gold price\n",
    "sns.distplot(df['GLD'],color='green')"
   ]
  },
  {
   "cell_type": "code",
   "execution_count": 24,
   "id": "ca277a42",
   "metadata": {},
   "outputs": [],
   "source": [
    "#splitting the data and the label\n",
    "x=df.drop(['GLD','Date'],axis=1)\n",
    "y=df['GLD']"
   ]
  },
  {
   "cell_type": "code",
   "execution_count": 25,
   "id": "33c0a61d",
   "metadata": {},
   "outputs": [
    {
     "data": {
      "text/html": [
       "<div>\n",
       "<style scoped>\n",
       "    .dataframe tbody tr th:only-of-type {\n",
       "        vertical-align: middle;\n",
       "    }\n",
       "\n",
       "    .dataframe tbody tr th {\n",
       "        vertical-align: top;\n",
       "    }\n",
       "\n",
       "    .dataframe thead th {\n",
       "        text-align: right;\n",
       "    }\n",
       "</style>\n",
       "<table border=\"1\" class=\"dataframe\">\n",
       "  <thead>\n",
       "    <tr style=\"text-align: right;\">\n",
       "      <th></th>\n",
       "      <th>SPX</th>\n",
       "      <th>USO</th>\n",
       "      <th>SLV</th>\n",
       "      <th>EUR/USD</th>\n",
       "    </tr>\n",
       "  </thead>\n",
       "  <tbody>\n",
       "    <tr>\n",
       "      <th>0</th>\n",
       "      <td>1447.160034</td>\n",
       "      <td>78.470001</td>\n",
       "      <td>15.180</td>\n",
       "      <td>1.471692</td>\n",
       "    </tr>\n",
       "    <tr>\n",
       "      <th>1</th>\n",
       "      <td>1447.160034</td>\n",
       "      <td>78.370003</td>\n",
       "      <td>15.285</td>\n",
       "      <td>1.474491</td>\n",
       "    </tr>\n",
       "    <tr>\n",
       "      <th>2</th>\n",
       "      <td>1411.630005</td>\n",
       "      <td>77.309998</td>\n",
       "      <td>15.167</td>\n",
       "      <td>1.475492</td>\n",
       "    </tr>\n",
       "    <tr>\n",
       "      <th>3</th>\n",
       "      <td>1416.180054</td>\n",
       "      <td>75.500000</td>\n",
       "      <td>15.053</td>\n",
       "      <td>1.468299</td>\n",
       "    </tr>\n",
       "    <tr>\n",
       "      <th>4</th>\n",
       "      <td>1390.189941</td>\n",
       "      <td>76.059998</td>\n",
       "      <td>15.590</td>\n",
       "      <td>1.557099</td>\n",
       "    </tr>\n",
       "  </tbody>\n",
       "</table>\n",
       "</div>"
      ],
      "text/plain": [
       "           SPX        USO     SLV   EUR/USD\n",
       "0  1447.160034  78.470001  15.180  1.471692\n",
       "1  1447.160034  78.370003  15.285  1.474491\n",
       "2  1411.630005  77.309998  15.167  1.475492\n",
       "3  1416.180054  75.500000  15.053  1.468299\n",
       "4  1390.189941  76.059998  15.590  1.557099"
      ]
     },
     "execution_count": 25,
     "metadata": {},
     "output_type": "execute_result"
    }
   ],
   "source": [
    "x.head()"
   ]
  },
  {
   "cell_type": "code",
   "execution_count": 26,
   "id": "ff29931b",
   "metadata": {},
   "outputs": [
    {
     "data": {
      "text/plain": [
       "0    84.860001\n",
       "1    85.570000\n",
       "2    85.129997\n",
       "3    84.769997\n",
       "4    86.779999\n",
       "Name: GLD, dtype: float64"
      ]
     },
     "execution_count": 26,
     "metadata": {},
     "output_type": "execute_result"
    }
   ],
   "source": [
    "y.head()"
   ]
  },
  {
   "cell_type": "code",
   "execution_count": 30,
   "id": "48b7512f",
   "metadata": {},
   "outputs": [],
   "source": [
    "x_train,x_test,y_train,y_test=train_test_split(x,y,test_size=0.2,random_state=3)"
   ]
  },
  {
   "cell_type": "code",
   "execution_count": 31,
   "id": "ed9ec62b",
   "metadata": {},
   "outputs": [],
   "source": [
    "rf=RandomForestRegressor()"
   ]
  },
  {
   "cell_type": "code",
   "execution_count": 32,
   "id": "01b62c8a",
   "metadata": {},
   "outputs": [
    {
     "data": {
      "text/plain": [
       "RandomForestRegressor()"
      ]
     },
     "execution_count": 32,
     "metadata": {},
     "output_type": "execute_result"
    }
   ],
   "source": [
    "rf.fit(x_train,y_train)"
   ]
  },
  {
   "cell_type": "code",
   "execution_count": 33,
   "id": "c30c191e",
   "metadata": {},
   "outputs": [
    {
     "name": "stdout",
     "output_type": "stream",
     "text": [
      "0.9984180036489105\n"
     ]
    }
   ],
   "source": [
    "train_pred=rf.predict(x_train)\n",
    "error_score=metrics.r2_score(y_train,train_pred)\n",
    "print(error_score)"
   ]
  },
  {
   "cell_type": "code",
   "execution_count": 34,
   "id": "058b5ac0",
   "metadata": {},
   "outputs": [
    {
     "name": "stdout",
     "output_type": "stream",
     "text": [
      "0.9848623788753873\n"
     ]
    }
   ],
   "source": [
    "test_pred=rf.predict(x_test)\n",
    "error_score1=metrics.r2_score(y_test,test_pred)\n",
    "print(error_score1)"
   ]
  },
  {
   "cell_type": "code",
   "execution_count": 35,
   "id": "896b9c64",
   "metadata": {},
   "outputs": [
    {
     "data": {
      "text/plain": [
       "0.9848623788753873"
      ]
     },
     "execution_count": 35,
     "metadata": {},
     "output_type": "execute_result"
    }
   ],
   "source": [
    "rf.score(x_test,y_test)"
   ]
  },
  {
   "cell_type": "code",
   "execution_count": 38,
   "id": "6f0ba97c",
   "metadata": {},
   "outputs": [
    {
     "data": {
      "text/plain": [
       "Text(0, 0.5, 'gold price')"
      ]
     },
     "execution_count": 38,
     "metadata": {},
     "output_type": "execute_result"
    },
    {
     "data": {
      "image/png": "[encoded data removed]",
      "text/plain": [
       "<Figure size 640x480 with 1 Axes>"
      ]
     },
     "metadata": {},
     "output_type": "display_data"
    }
   ],
   "source": [
    "#comparing the actual and the predictyed value\n",
    "plt.scatter(y_test,test_pred)\n",
    "plt.xlabel('No of values')\n",
    "plt.ylabel('gold price')"
   ]
  },
  {
   "cell_type": "code",
   "execution_count": 49,
   "id": "7109439e",
   "metadata": {},
   "outputs": [
    {
     "data": {
      "image/png": "[encoded data removed]",
      "text/plain": [
       "<Figure size 640x480 with 1 Axes>"
      ]
     },
     "metadata": {},
     "output_type": "display_data"
    }
   ],
   "source": [
    "#2nd way\n",
    "y_test=list(y_test)\n",
    "plt.plot(y_test, color='Blue', label='Actual Value')\n",
    "plt.plot(test_pred, color=\"green\", label='Predicted value')\n",
    "plt.xlabel('No. of values')\n",
    "plt.ylabel('Gold price')\n",
    "plt.legend() #for the box at the bottom\n",
    "plt.show()"
   ]
  },
  {
   "cell_type": "code",
   "execution_count": 47,
   "id": "80d84965",
   "metadata": {},
   "outputs": [
    {
     "data": {
      "text/plain": [
       "[161.990005,\n",
       " 127.580002,\n",
       " 124.57,\n",
       " 118.970001,\n",
       " 125.720001,\n",
       " 85.129997,\n",
       " 171.470001,\n",
       " 155.330002,\n",
       " 108.089996,\n",
       " 130.589996,\n",
       " 119.82,\n",
       " 124.599998,\n",
       " 142.380005,\n",
       " 105.699997,\n",
       " 80.760002,\n",
       " 123.709999,\n",
       " 139.050003,\n",
       " 88.25,\n",
       " 92.309998,\n",
       " 127.839996,\n",
       " 126.300003,\n",
       " 149.880005,\n",
       " 117.730003,\n",
       " 154.669998,\n",
       " 130.559998,\n",
       " 130.619995,\n",
       " 119.769997,\n",
       " 112.059998,\n",
       " 170.850006,\n",
       " 157.770004,\n",
       " 126.230003,\n",
       " 152.990005,\n",
       " 128.830002,\n",
       " 122.900002,\n",
       " 115.989998,\n",
       " 155.360001,\n",
       " 116.010002,\n",
       " 121.129997,\n",
       " 104.68,\n",
       " 107.730003,\n",
       " 133.509995,\n",
       " 84.769997,\n",
       " 159.300003,\n",
       " 121.239998,\n",
       " 122.959999,\n",
       " 156.300003,\n",
       " 119.68,\n",
       " 116.080002,\n",
       " 169.630005,\n",
       " 116.099998,\n",
       " 135.199997,\n",
       " 161.960007,\n",
       " 159.460007,\n",
       " 151.619995,\n",
       " 124.389999,\n",
       " 115.779999,\n",
       " 167.559998,\n",
       " 115.550003,\n",
       " 165.800003,\n",
       " 84.459999,\n",
       " 122.129997,\n",
       " 122.07,\n",
       " 119.330002,\n",
       " 172.339996,\n",
       " 119.410004,\n",
       " 181.809998,\n",
       " 160.630005,\n",
       " 135.110001,\n",
       " 114.739998,\n",
       " 93.129997,\n",
       " 172.100006,\n",
       " 117.75,\n",
       " 118.519997,\n",
       " 124.790001,\n",
       " 145.649994,\n",
       " 91.230003,\n",
       " 82.75,\n",
       " 89.220001,\n",
       " 102.839996,\n",
       " 124.150002,\n",
       " 121.559998,\n",
       " 172.940002,\n",
       " 120.050003,\n",
       " 127.010002,\n",
       " 159.369995,\n",
       " 120.669998,\n",
       " 170.399994,\n",
       " 147.380005,\n",
       " 87.239998,\n",
       " 126.559998,\n",
       " 118.360001,\n",
       " 89.330002,\n",
       " 117.68,\n",
       " 115.839996,\n",
       " 88.279999,\n",
       " 141.110001,\n",
       " 162.020004,\n",
       " 129.520004,\n",
       " 107.099998,\n",
       " 122.809998,\n",
       " 122.379997,\n",
       " 123.639999,\n",
       " 106.129997,\n",
       " 115.68,\n",
       " 115.089996,\n",
       " 119.040001,\n",
       " 161.220001,\n",
       " 128.470001,\n",
       " 121.790001,\n",
       " 88.989998,\n",
       " 128.119995,\n",
       " 162.600006,\n",
       " 138.720001,\n",
       " 88.839996,\n",
       " 138.860001,\n",
       " 168.029999,\n",
       " 154.770004,\n",
       " 107.790001,\n",
       " 110.400002,\n",
       " 125.489998,\n",
       " 113.68,\n",
       " 118.769997,\n",
       " 161.080002,\n",
       " 123.139999,\n",
       " 145.929993,\n",
       " 117.57,\n",
       " 163.160004,\n",
       " 120.32,\n",
       " 112.669998,\n",
       " 173.529999,\n",
       " 104.389999,\n",
       " 122.699997,\n",
       " 79.75,\n",
       " 163.169998,\n",
       " 125.470001,\n",
       " 132.809998,\n",
       " 122.290001,\n",
       " 108.589996,\n",
       " 153.520004,\n",
       " 112.290001,\n",
       " 162.190002,\n",
       " 130.229996,\n",
       " 90.949997,\n",
       " 121.18,\n",
       " 130.990005,\n",
       " 89.150002,\n",
       " 120.010002,\n",
       " 119.790001,\n",
       " 109.699997,\n",
       " 90.279999,\n",
       " 91.449997,\n",
       " 115.519997,\n",
       " 152.619995,\n",
       " 112.040001,\n",
       " 132.449997,\n",
       " 115.489998,\n",
       " 119.720001,\n",
       " 156.990005,\n",
       " 127.349998,\n",
       " 115.639999,\n",
       " 121.190002,\n",
       " 137.660004,\n",
       " 117.400002,\n",
       " 92.269997,\n",
       " 90.300003,\n",
       " 166.399994,\n",
       " 111.540001,\n",
       " 115.879997,\n",
       " 119.580002,\n",
       " 114.099998,\n",
       " 92.290001,\n",
       " 118.059998,\n",
       " 156.220001,\n",
       " 155.919998,\n",
       " 93.150002,\n",
       " 124.779999,\n",
       " 104.099998,\n",
       " 155.380005,\n",
       " 115.699997,\n",
       " 119.230003,\n",
       " 91.93,\n",
       " 91.879997,\n",
       " 152.080002,\n",
       " 175.779999,\n",
       " 72.800003,\n",
       " 125.029999,\n",
       " 118.989998,\n",
       " 152.710007,\n",
       " 91.330002,\n",
       " 162.300003,\n",
       " 140.809998,\n",
       " 118.480003,\n",
       " 155.759995,\n",
       " 83.459999,\n",
       " 125.959999,\n",
       " 117.959999,\n",
       " 91.25,\n",
       " 93.400002,\n",
       " 171.800003,\n",
       " 162.100006,\n",
       " 165.309998,\n",
       " 138.539993,\n",
       " 118.110001,\n",
       " 130.100006,\n",
       " 123.779999,\n",
       " 129.770004,\n",
       " 121.330002,\n",
       " 121.730003,\n",
       " 128.110001,\n",
       " 103.559998,\n",
       " 115.059998,\n",
       " 131.199997,\n",
       " 164.860001,\n",
       " 126.300003,\n",
       " 112.660004,\n",
       " 122.389999,\n",
       " 82.18,\n",
       " 103.559998,\n",
       " 119.940002,\n",
       " 162.940002,\n",
       " 122.080002,\n",
       " 87.989998,\n",
       " 126.449997,\n",
       " 107.790001,\n",
       " 159.669998,\n",
       " 163.259995,\n",
       " 122.879997,\n",
       " 124.769997,\n",
       " 151.990005,\n",
       " 90.900002,\n",
       " 91.309998,\n",
       " 115.599998,\n",
       " 108.949997,\n",
       " 129.869995,\n",
       " 109.43,\n",
       " 116.330002,\n",
       " 168.350006,\n",
       " 121.730003,\n",
       " 107.559998,\n",
       " 160.779999,\n",
       " 125.410004,\n",
       " 114.0,\n",
       " 104.260002,\n",
       " 150.479996,\n",
       " 168.110001,\n",
       " 171.050003,\n",
       " 92.529999,\n",
       " 114.419998,\n",
       " 118.589996,\n",
       " 113.150002,\n",
       " 159.309998,\n",
       " 120.739998,\n",
       " 70.0,\n",
       " 118.239998,\n",
       " 115.059998,\n",
       " 169.309998,\n",
       " 117.540001,\n",
       " 113.529999,\n",
       " 94.779999,\n",
       " 117.220001,\n",
       " 128.990005,\n",
       " 113.639999,\n",
       " 157.160004,\n",
       " 118.470001,\n",
       " 119.870003,\n",
       " 160.210007,\n",
       " 118.93,\n",
       " 95.449997,\n",
       " 117.959999,\n",
       " 168.0,\n",
       " 109.860001,\n",
       " 146.869995,\n",
       " 118.639999,\n",
       " 87.0,\n",
       " 173.610001,\n",
       " 134.100006,\n",
       " 164.399994,\n",
       " 83.459999,\n",
       " 119.82,\n",
       " 117.110001,\n",
       " 93.25,\n",
       " 73.790001,\n",
       " 93.269997,\n",
       " 118.760002,\n",
       " 179.100006,\n",
       " 116.720001,\n",
       " 125.32,\n",
       " 87.269997,\n",
       " 112.57,\n",
       " 110.489998,\n",
       " 162.009995,\n",
       " 120.089996,\n",
       " 86.5,\n",
       " 164.289993,\n",
       " 125.980003,\n",
       " 125.739998,\n",
       " 120.110001,\n",
       " 115.839996,\n",
       " 89.269997,\n",
       " 147.770004,\n",
       " 108.699997,\n",
       " 91.980003,\n",
       " 118.82,\n",
       " 152.440002,\n",
       " 123.349998,\n",
       " 139.139999,\n",
       " 146.380005,\n",
       " 111.019997,\n",
       " 129.089996,\n",
       " 111.970001,\n",
       " 114.470001,\n",
       " 113.75,\n",
       " 133.970001,\n",
       " 84.480003,\n",
       " 128.460007,\n",
       " 90.699997,\n",
       " 113.800003,\n",
       " 128.179993,\n",
       " 93.260002,\n",
       " 129.860001,\n",
       " 124.269997,\n",
       " 129.210007,\n",
       " 121.620003,\n",
       " 89.419998,\n",
       " 89.900002,\n",
       " 137.899994,\n",
       " 166.550003,\n",
       " 171.050003,\n",
       " 161.029999,\n",
       " 123.389999,\n",
       " 105.900002,\n",
       " 114.459999,\n",
       " 124.959999,\n",
       " 93.059998,\n",
       " 167.270004,\n",
       " 92.040001,\n",
       " 127.150002,\n",
       " 116.040001,\n",
       " 167.289993,\n",
       " 114.120003,\n",
       " 163.669998,\n",
       " 171.699997,\n",
       " 86.519997,\n",
       " 116.089996,\n",
       " 100.5,\n",
       " 132.130005,\n",
       " 111.5,\n",
       " 83.309998,\n",
       " 92.290001,\n",
       " 136.5,\n",
       " 97.959999,\n",
       " 115.199997,\n",
       " 115.57,\n",
       " 119.510002,\n",
       " 125.389999,\n",
       " 113.660004,\n",
       " 97.889999,\n",
       " 72.709999,\n",
       " 120.050003,\n",
       " 90.809998,\n",
       " 138.369995,\n",
       " 115.540001,\n",
       " 115.730003,\n",
       " 111.089996,\n",
       " 85.43,\n",
       " 110.75,\n",
       " 125.980003,\n",
       " 156.559998,\n",
       " 119.040001,\n",
       " 76.790001,\n",
       " 110.449997,\n",
       " 86.230003,\n",
       " 116.620003,\n",
       " 96.360001,\n",
       " 115.940002,\n",
       " 124.18,\n",
       " 112.839996,\n",
       " 118.68,\n",
       " 119.580002,\n",
       " 125.989998,\n",
       " 111.760002,\n",
       " 109.300003,\n",
       " 166.020004,\n",
       " 95.870003,\n",
       " 120.949997,\n",
       " 93.059998,\n",
       " 116.07,\n",
       " 110.75,\n",
       " 155.130005,\n",
       " 117.599998,\n",
       " 157.320007,\n",
       " 85.389999,\n",
       " 141.630005,\n",
       " 109.790001,\n",
       " 107.110001,\n",
       " 130.169998,\n",
       " 115.940002,\n",
       " 121.480003,\n",
       " 117.919998,\n",
       " 151.050003,\n",
       " 108.860001,\n",
       " 136.029999,\n",
       " 160.619995,\n",
       " 106.300003,\n",
       " 102.43,\n",
       " 173.490005,\n",
       " 121.400002,\n",
       " 142.149994,\n",
       " 104.080002,\n",
       " 93.900002,\n",
       " 115.379997,\n",
       " 122.790001,\n",
       " 109.610001,\n",
       " 168.179993,\n",
       " 172.050003,\n",
       " 117.739998,\n",
       " 167.179993,\n",
       " 127.260002,\n",
       " 159.429993,\n",
       " 94.779999,\n",
       " 99.82,\n",
       " 126.940002,\n",
       " 71.099998,\n",
       " 89.57,\n",
       " 93.800003,\n",
       " 169.550003,\n",
       " 114.769997,\n",
       " 108.470001,\n",
       " 122.669998,\n",
       " 89.849998,\n",
       " 153.339996,\n",
       " 93.760002,\n",
       " 84.580002,\n",
       " 105.970001,\n",
       " 76.029999,\n",
       " 136.880005,\n",
       " 166.089996,\n",
       " 118.190002,\n",
       " 117.050003,\n",
       " 97.730003,\n",
       " 125.370003,\n",
       " 127.57,\n",
       " 114.32,\n",
       " 127.019997,\n",
       " 124.269997,\n",
       " 114.730003,\n",
       " 96.18,\n",
       " 121.290001,\n",
       " 125.32,\n",
       " 88.639999,\n",
       " 132.199997,\n",
       " 118.550003,\n",
       " 115.940002,\n",
       " 147.830002,\n",
       " 93.459999,\n",
       " 115.620003,\n",
       " 88.800003,\n",
       " 120.839996]"
      ]
     },
     "execution_count": 47,
     "metadata": {},
     "output_type": "execute_result"
    }
   ],
   "source": [
    "y_test"
   ]
  },
  {
   "cell_type": "code",
   "execution_count": 48,
   "id": "3c1fc065",
   "metadata": {},
   "outputs": [
    {
     "data": {
      "text/plain": [
       "array([164.44530068, 127.56119895, 124.14729964, 119.50209892,\n",
       "       126.02859904,  86.14939824, 171.78490148, 135.9691999 ,\n",
       "       106.88280079, 133.19500203, 120.61959921, 124.68350064,\n",
       "       143.27859831, 104.56400011,  80.83869923, 119.47240003,\n",
       "       140.6647997 ,  90.24580043,  91.47589929, 128.32850216,\n",
       "       125.9417991 , 147.96779992, 116.46430162, 153.20519911,\n",
       "       129.43849816, 129.6322009 , 118.02720111, 111.47690052,\n",
       "       168.01620297, 158.40159788, 126.03420195, 154.01170137,\n",
       "       127.13419918, 122.7191978 , 116.29030109, 154.75519989,\n",
       "       115.01179971, 120.46410139, 103.67400207, 105.30440024,\n",
       "       134.58499956,  85.53999923, 157.0958014 , 121.46100018,\n",
       "       122.39040098, 155.52850035, 120.54510006, 116.73039977,\n",
       "       168.50680336, 116.56060082, 136.5538023 , 161.93549818,\n",
       "       157.95410033, 153.32780041, 124.03360041, 117.00810043,\n",
       "       167.25420037, 117.28059959, 165.80590068,  84.15890023,\n",
       "       121.34779908, 122.18930018, 119.85070044, 172.00019894,\n",
       "       118.5452002 , 180.52419607, 161.11970252, 136.82600202,\n",
       "       115.90450003,  92.68250061, 171.94879976, 117.55319974,\n",
       "       117.94939877, 125.60099962, 147.08159988,  91.33320092,\n",
       "        83.91759893,  88.91869979, 102.71489904, 124.52660086,\n",
       "       123.04210035, 169.36890256, 120.92470024, 125.18609974,\n",
       "       160.25010539, 120.36670072, 170.40600186, 148.15179705,\n",
       "        87.03959935, 126.65950043, 118.69470055,  89.9534999 ,\n",
       "       118.8998998 , 116.77879827,  88.91609884, 136.4928027 ,\n",
       "       160.98210125, 130.92460443, 105.69140118, 122.60609942,\n",
       "       120.80700031, 124.42490142, 108.27260032, 115.48950088,\n",
       "       115.11939927, 120.59230054, 158.1568028 , 126.61219956,\n",
       "       120.11469945,  90.89419992, 125.44549921, 161.74759905,\n",
       "       159.61200229,  87.87079932, 138.91200061, 167.33589826,\n",
       "       154.93420051, 109.45110042, 109.04419774, 124.56810016,\n",
       "       113.9215018 , 117.63450017, 160.4946019 , 121.74480004,\n",
       "       143.95459703, 116.4692007 , 163.21040152, 119.39939938,\n",
       "       112.30160101, 147.02849972, 104.20699926, 121.86159987,\n",
       "        78.30929966, 161.29629767, 125.88010051, 132.14040075,\n",
       "       120.00920012, 107.6412997 , 153.18780098, 114.5620001 ,\n",
       "       162.28489974, 128.35100195,  91.56870155, 121.18609994,\n",
       "       131.38749906,  89.37039973, 120.46619986, 120.02730076,\n",
       "       112.94140057,  90.79800087,  91.17909888, 117.07450011,\n",
       "       150.32790027, 113.12759979, 132.24950181, 117.3279009 ,\n",
       "       119.31710037, 156.34419904, 127.89460294, 114.90309969,\n",
       "       119.82260023, 139.77669904, 115.46360092,  92.36569895,\n",
       "        89.84620009, 166.34430253, 112.14879971, 115.62690073,\n",
       "       119.80180143, 114.65509991,  92.35059848, 117.41849908,\n",
       "       154.59250185, 151.76770026,  93.11329988, 125.99570074,\n",
       "       104.2856995 , 155.44980011, 115.22660024, 119.93649818,\n",
       "        91.76449893,  91.82660054, 153.15780022, 173.15909748,\n",
       "        78.82450002, 126.07510007, 119.2009005 , 150.50070043,\n",
       "        91.17970112, 164.25170085, 138.47809679, 117.52180112,\n",
       "       140.39510002,  81.89699825, 124.96209925, 118.8639013 ,\n",
       "        90.92700102,  94.0059998 , 173.88359756, 165.30480148,\n",
       "       168.21140237, 139.65400162, 118.39660067, 130.47140069,\n",
       "       124.43770051, 129.25369843, 121.50719972, 122.14679891,\n",
       "       127.11070026, 104.08019995, 115.94160056, 132.48019914,\n",
       "       164.80839742, 125.66680044, 113.80600198, 123.05190031,\n",
       "        82.25990067, 102.81079879, 121.3012988 , 164.20840048,\n",
       "       121.42499948,  87.24450068, 127.58580063, 108.38789998,\n",
       "       158.34230187, 165.09239932, 123.89430028, 124.46220024,\n",
       "       146.42329851,  89.88899945,  88.59970021, 115.22320068,\n",
       "       108.37030052, 128.54859891, 108.20979978, 114.63679986,\n",
       "       167.52249833, 120.02690023, 106.90719967, 158.33749872,\n",
       "       125.05849877, 114.29630084, 103.66490008, 149.90189855,\n",
       "       166.3725976 , 171.22730321,  92.32439909, 114.63690056,\n",
       "       118.98449951, 113.25280139, 160.07130476, 120.38619951,\n",
       "        72.76800204, 118.9753995 , 115.3982002 , 166.90029788,\n",
       "       118.90890057, 114.72449965,  94.26889927, 117.19810127,\n",
       "       128.24019722, 114.51169961, 156.29180024, 119.19270068,\n",
       "       118.46890089, 161.32270106, 118.37510033,  94.88629912,\n",
       "       118.2395014 , 166.60010127, 111.20419882, 146.61070175,\n",
       "       118.8840006 ,  86.46349892, 171.52960162, 155.98399754,\n",
       "       163.31430141,  84.47649832, 119.22660017, 108.6104996 ,\n",
       "        92.79329969,  72.38010009,  93.08090023, 117.61689991,\n",
       "       176.98589965, 115.73080134, 123.97159945,  87.23699937,\n",
       "       113.46970053, 112.03450005, 161.57900381, 118.74070104,\n",
       "        87.24649787, 169.37129865, 125.24979997, 125.98760024,\n",
       "       121.27400025, 116.68829999,  90.0696001 , 146.80090092,\n",
       "       108.83579887,  91.67079827, 118.36009982, 152.76770204,\n",
       "       122.98919941, 142.30899913, 148.35290125, 108.23659953,\n",
       "       129.32090308, 112.0620002 , 114.25610049, 115.21919994,\n",
       "       157.77859757,  83.70599901, 125.34289949,  91.40569955,\n",
       "       113.67959906, 127.2478977 ,  92.29590036, 129.62300094,\n",
       "       124.66679967, 128.19429758, 121.98829898,  90.04589993,\n",
       "        86.9591983 , 136.92029867, 164.94940063, 169.77659942,\n",
       "       159.89310304, 124.36509993, 106.38980063, 116.55350025,\n",
       "       124.4222997 ,  91.81399843, 167.11429797,  91.69069913,\n",
       "       127.9120013 , 117.44090099, 166.39069861, 115.2281997 ,\n",
       "       163.23840144, 169.54069894,  84.19619979, 117.48020012,\n",
       "       101.83289882, 130.44640126, 112.57279936,  80.50819882,\n",
       "        92.39499987, 135.91860016,  98.66559931, 117.77979894,\n",
       "       116.73920106, 118.99827631, 126.07060045, 115.15109988,\n",
       "        97.11860123,  73.58419924, 118.34340002,  89.60250066,\n",
       "       135.0920992 , 113.58079927, 115.17119988, 110.63150076,\n",
       "        86.10769885, 113.07750101, 126.43190043, 156.22579824,\n",
       "       119.65739983,  76.85180008, 113.77520078,  87.12549795,\n",
       "       115.0637988 ,  95.937602  , 115.71550032, 125.01849952,\n",
       "       114.18150028, 118.41290036, 119.41800049, 125.49279887,\n",
       "       111.93370171, 109.0562996 , 165.46120111,  96.2174987 ,\n",
       "       121.38480146,  92.09520027, 116.10480096, 110.90499925,\n",
       "       155.94340298, 117.67909975, 153.93700048,  86.43159903,\n",
       "       141.97319795, 110.21199844, 106.35930004, 128.25919725,\n",
       "       118.84009959, 119.92460019, 118.2247004 , 146.77760127,\n",
       "       109.50549829, 135.37950102, 158.19609997, 107.15049949,\n",
       "       102.58799944, 167.86819924, 119.97810078, 140.69840066,\n",
       "       104.23099993,  94.44809966, 114.12360141, 123.33100084,\n",
       "       109.52109809, 167.883401  , 171.07800217, 117.89519917,\n",
       "       169.17019757, 126.48290113, 160.56270455,  95.6440994 ,\n",
       "        99.37739904, 125.50929985,  73.14630065,  88.87219955,\n",
       "        93.60290056, 148.86359862, 114.32300128, 108.19929916,\n",
       "       122.90479889,  90.18709967, 148.57370162,  93.80489832,\n",
       "        86.01409881, 106.64370072,  73.59409987, 133.82959941,\n",
       "       166.97560223, 117.63810001, 117.89919944,  96.39300164,\n",
       "       126.30910011, 128.03580049, 113.93149987, 126.75150017,\n",
       "       127.42769938, 115.92480056,  95.70729937, 123.49789933,\n",
       "       126.13540059,  89.90590068, 133.74439977, 118.56660084,\n",
       "       115.90849817, 144.85329962,  93.79520084, 116.69999988,\n",
       "        87.83730016, 119.57009979])"
      ]
     },
     "execution_count": 48,
     "metadata": {},
     "output_type": "execute_result"
    }
   ],
   "source": [
    "test_pred"
   ]
  },
  {
   "cell_type": "code",
   "execution_count": 50,
   "id": "6be10072",
   "metadata": {},
   "outputs": [
    {
     "data": {
      "text/html": [
       "<div>\n",
       "<style scoped>\n",
       "    .dataframe tbody tr th:only-of-type {\n",
       "        vertical-align: middle;\n",
       "    }\n",
       "\n",
       "    .dataframe tbody tr th {\n",
       "        vertical-align: top;\n",
       "    }\n",
       "\n",
       "    .dataframe thead th {\n",
       "        text-align: right;\n",
       "    }\n",
       "</style>\n",
       "<table border=\"1\" class=\"dataframe\">\n",
       "  <thead>\n",
       "    <tr style=\"text-align: right;\">\n",
       "      <th></th>\n",
       "      <th>Date</th>\n",
       "      <th>SPX</th>\n",
       "      <th>GLD</th>\n",
       "      <th>USO</th>\n",
       "      <th>SLV</th>\n",
       "      <th>EUR/USD</th>\n",
       "    </tr>\n",
       "  </thead>\n",
       "  <tbody>\n",
       "    <tr>\n",
       "      <th>0</th>\n",
       "      <td>1/2/2008</td>\n",
       "      <td>1447.160034</td>\n",
       "      <td>84.860001</td>\n",
       "      <td>78.470001</td>\n",
       "      <td>15.180</td>\n",
       "      <td>1.471692</td>\n",
       "    </tr>\n",
       "    <tr>\n",
       "      <th>1</th>\n",
       "      <td>1/3/2008</td>\n",
       "      <td>1447.160034</td>\n",
       "      <td>85.570000</td>\n",
       "      <td>78.370003</td>\n",
       "      <td>15.285</td>\n",
       "      <td>1.474491</td>\n",
       "    </tr>\n",
       "    <tr>\n",
       "      <th>2</th>\n",
       "      <td>1/4/2008</td>\n",
       "      <td>1411.630005</td>\n",
       "      <td>85.129997</td>\n",
       "      <td>77.309998</td>\n",
       "      <td>15.167</td>\n",
       "      <td>1.475492</td>\n",
       "    </tr>\n",
       "    <tr>\n",
       "      <th>3</th>\n",
       "      <td>1/7/2008</td>\n",
       "      <td>1416.180054</td>\n",
       "      <td>84.769997</td>\n",
       "      <td>75.500000</td>\n",
       "      <td>15.053</td>\n",
       "      <td>1.468299</td>\n",
       "    </tr>\n",
       "    <tr>\n",
       "      <th>4</th>\n",
       "      <td>1/8/2008</td>\n",
       "      <td>1390.189941</td>\n",
       "      <td>86.779999</td>\n",
       "      <td>76.059998</td>\n",
       "      <td>15.590</td>\n",
       "      <td>1.557099</td>\n",
       "    </tr>\n",
       "  </tbody>\n",
       "</table>\n",
       "</div>"
      ],
      "text/plain": [
       "       Date          SPX        GLD        USO     SLV   EUR/USD\n",
       "0  1/2/2008  1447.160034  84.860001  78.470001  15.180  1.471692\n",
       "1  1/3/2008  1447.160034  85.570000  78.370003  15.285  1.474491\n",
       "2  1/4/2008  1411.630005  85.129997  77.309998  15.167  1.475492\n",
       "3  1/7/2008  1416.180054  84.769997  75.500000  15.053  1.468299\n",
       "4  1/8/2008  1390.189941  86.779999  76.059998  15.590  1.557099"
      ]
     },
     "execution_count": 50,
     "metadata": {},
     "output_type": "execute_result"
    }
   ],
   "source": [
    "df.head()"
   ]
  },
  {
   "cell_type": "code",
   "execution_count": 51,
   "id": "8816cf44",
   "metadata": {},
   "outputs": [],
   "source": [
    "x1=df.drop(['GLD','Date'],axis=1)\n",
    "y1=df['GLD']"
   ]
  },
  {
   "cell_type": "code",
   "execution_count": 52,
   "id": "ffed3f3d",
   "metadata": {},
   "outputs": [],
   "source": [
    "scaler=StandardScaler()"
   ]
  },
  {
   "cell_type": "code",
   "execution_count": 53,
   "id": "6a1aafc2",
   "metadata": {},
   "outputs": [
    {
     "data": {
      "text/plain": [
       "StandardScaler()"
      ]
     },
     "execution_count": 53,
     "metadata": {},
     "output_type": "execute_result"
    }
   ],
   "source": [
    "scaler.fit(x1)"
   ]
  },
  {
   "cell_type": "code",
   "execution_count": 55,
   "id": "84bd3e38",
   "metadata": {},
   "outputs": [],
   "source": [
    "standard_scale=scaler.transform(x1)"
   ]
  },
  {
   "cell_type": "code",
   "execution_count": 56,
   "id": "70066f33",
   "metadata": {},
   "outputs": [],
   "source": [
    "x1=standard_scale\n",
    "y1=df['GLD']"
   ]
  },
  {
   "cell_type": "code",
   "execution_count": 57,
   "id": "1b136ca4",
   "metadata": {},
   "outputs": [],
   "source": [
    "x_train,x_test,y_train,y_test=train_test_split(x1,y1,test_size=0.2,random_state=3)"
   ]
  },
  {
   "cell_type": "code",
   "execution_count": 58,
   "id": "745d588c",
   "metadata": {},
   "outputs": [
    {
     "data": {
      "text/plain": [
       "RandomForestRegressor()"
      ]
     },
     "execution_count": 58,
     "metadata": {},
     "output_type": "execute_result"
    }
   ],
   "source": [
    "rf.fit(x_train,y_train)"
   ]
  },
  {
   "cell_type": "code",
   "execution_count": 62,
   "id": "f1108fd6",
   "metadata": {},
   "outputs": [
    {
     "name": "stdout",
     "output_type": "stream",
     "text": [
      "0.9984601557895756\n"
     ]
    }
   ],
   "source": [
    "train_pred2=rf.predict(x_train)\n",
    "error_score2=metrics.r2_score(y_train,train_pred2)\n",
    "print(error_score2)"
   ]
  },
  {
   "cell_type": "code",
   "execution_count": 63,
   "id": "c5f84557",
   "metadata": {},
   "outputs": [
    {
     "name": "stdout",
     "output_type": "stream",
     "text": [
      "0.9860114606327393\n"
     ]
    }
   ],
   "source": [
    "test_pred2=rf.predict(x_test)\n",
    "error_score3=metrics.r2_score(y_test,test_pred2)\n",
    "print(error_score3)"
   ]
  },
  {
   "cell_type": "code",
   "execution_count": null,
   "id": "efc3d7cc",
   "metadata": {},
   "outputs": [],
   "source": []
  }
 ],
 "metadata": {
  "kernelspec": {
   "display_name": "Python 3 (ipykernel)",
   "language": "python",
   "name": "python3"
  },
  "language_info": {
   "codemirror_mode": {
    "name": "ipython",
    "version": 3
   },
   "file_extension": ".py",
   "mimetype": "text/x-python",
   "name": "python",
   "nbconvert_exporter": "python",
   "pygments_lexer": "ipython3",
   "version": "3.7.9"
  }
 },
 "nbformat": 4,
 "nbformat_minor": 5
}
